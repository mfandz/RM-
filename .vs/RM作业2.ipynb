{
 "cells": [
  {
   "cell_type": "code",
   "execution_count": 3,
   "id": "d2a3e128",
   "metadata": {},
   "outputs": [],
   "source": [
    "import numpy as np\n",
    "import cv2 as cv\n",
    "import pandas as pd\n",
    "import matplotlib.pyplot as plt"
   ]
  },
  {
   "cell_type": "code",
   "execution_count": 5,
   "id": "113fcc37",
   "metadata": {},
   "outputs": [],
   "source": [
    "x0=np.ones((25,1))"
   ]
  },
  {
   "cell_type": "code",
   "execution_count": 6,
   "id": "245cd9d1",
   "metadata": {},
   "outputs": [],
   "source": [
    "my_data = np.loadtxt(open(\"data1.csv\", \"rb\"), delimiter=\",\", skiprows=0)"
   ]
  },
  {
   "cell_type": "code",
   "execution_count": 7,
   "id": "5e2a9395",
   "metadata": {},
   "outputs": [
    {
     "name": "stdout",
     "output_type": "stream",
     "text": [
      "[[0.99162116 0.44666542 0.65597108 0.99834467]\n",
      " [0.1933074  0.18007962 0.80394053 0.86105884]\n",
      " [0.17447959 0.85390996 0.93114117 1.16273488]\n",
      " [0.67937981 0.27640369 0.5308529  0.88457782]\n",
      " [0.87095971 0.48281909 0.8159076  1.03153045]\n",
      " [0.95523604 0.85417108 0.30272111 1.10059547]\n",
      " [0.57708151 0.55399871 0.40695119 0.97325893]\n",
      " [0.77514832 0.18284638 0.34366064 0.82101523]\n",
      " [0.70814549 0.53996647 0.7548035  1.037775  ]\n",
      " [0.03190035 0.97208511 0.36851772 1.09908536]\n",
      " [0.4764231  0.64148652 0.61553037 1.0362357 ]\n",
      " [0.16536392 0.36327653 0.86806665 0.94876873]\n",
      " [0.3642039  0.01010249 0.68629244 0.78794554]\n",
      " [0.74001565 0.72343428 0.2740373  1.02723658]\n",
      " [0.75933799 0.91298902 0.28318976 1.10686366]\n",
      " [0.36344185 0.93668547 0.34485102 1.1028901 ]\n",
      " [0.3607675  0.51017485 0.70355899 0.99470463]\n",
      " [0.13075238 0.63206436 0.55968954 1.00174999]\n",
      " [0.76707395 0.96155171 0.75677023 1.21461648]\n",
      " [0.46784969 0.02620726 0.91073375 0.83740954]\n",
      " [0.14019095 0.86600409 0.67784996 1.11859644]\n",
      " [0.57751715 0.11268255 0.8797529  0.87565511]\n",
      " [0.22339108 0.3689655  0.4759836  0.88372385]\n",
      " [0.26113971 0.99998022 0.46045064 1.14354162]\n",
      " [0.60883722 0.0959066  0.7821448  0.85418589]]\n"
     ]
    }
   ],
   "source": [
    "print(my_data)"
   ]
  },
  {
   "cell_type": "code",
   "execution_count": 8,
   "id": "8a5143c2",
   "metadata": {},
   "outputs": [
    {
     "name": "stdout",
     "output_type": "stream",
     "text": [
      "[[0.99162116 0.44666542 0.65597108 1.        ]\n",
      " [0.1933074  0.18007962 0.80394053 1.        ]\n",
      " [0.17447959 0.85390996 0.93114117 1.        ]\n",
      " [0.67937981 0.27640369 0.5308529  1.        ]\n",
      " [0.87095971 0.48281909 0.8159076  1.        ]\n",
      " [0.95523604 0.85417108 0.30272111 1.        ]\n",
      " [0.57708151 0.55399871 0.40695119 1.        ]\n",
      " [0.77514832 0.18284638 0.34366064 1.        ]\n",
      " [0.70814549 0.53996647 0.7548035  1.        ]\n",
      " [0.03190035 0.97208511 0.36851772 1.        ]\n",
      " [0.4764231  0.64148652 0.61553037 1.        ]\n",
      " [0.16536392 0.36327653 0.86806665 1.        ]\n",
      " [0.3642039  0.01010249 0.68629244 1.        ]\n",
      " [0.74001565 0.72343428 0.2740373  1.        ]\n",
      " [0.75933799 0.91298902 0.28318976 1.        ]\n",
      " [0.36344185 0.93668547 0.34485102 1.        ]\n",
      " [0.3607675  0.51017485 0.70355899 1.        ]\n",
      " [0.13075238 0.63206436 0.55968954 1.        ]\n",
      " [0.76707395 0.96155171 0.75677023 1.        ]\n",
      " [0.46784969 0.02620726 0.91073375 1.        ]\n",
      " [0.14019095 0.86600409 0.67784996 1.        ]\n",
      " [0.57751715 0.11268255 0.8797529  1.        ]\n",
      " [0.22339108 0.3689655  0.4759836  1.        ]\n",
      " [0.26113971 0.99998022 0.46045064 1.        ]\n",
      " [0.60883722 0.0959066  0.7821448  1.        ]]\n"
     ]
    }
   ],
   "source": [
    "c=np.hsplit(my_data, 4)\n",
    "Y=c[3];\n",
    "X0=np.hstack([c[0],c[1],c[2]])\n",
    "X=np.hstack([X0,x0])\n",
    "print(X)"
   ]
  },
  {
   "cell_type": "code",
   "execution_count": 9,
   "id": "b57d369a",
   "metadata": {},
   "outputs": [
    {
     "name": "stdout",
     "output_type": "stream",
     "text": [
      "[[0.06513968]\n",
      " [0.40962719]\n",
      " [0.17938605]\n",
      " [0.63365882]]\n"
     ]
    }
   ],
   "source": [
    "X1=X.T\n",
    "w=np.linalg.inv(X1.dot(X)).dot(X1).dot(Y);\n",
    "print(w)"
   ]
  },
  {
   "cell_type": "code",
   "execution_count": 39,
   "id": "d1c645b2",
   "metadata": {},
   "outputs": [
    {
     "name": "stdout",
     "output_type": "stream",
     "text": [
      "(523, 1024, 3)\n"
     ]
    },
    {
     "data": {
      "text/plain": [
       "-1"
      ]
     },
     "execution_count": 39,
     "metadata": {},
     "output_type": "execute_result"
    }
   ],
   "source": [
    "image = cv.imread(\"三角形.jpg\")\n",
    "print(image.shape)\n",
    "cv.imshow(\"三角\", image)\n",
    "cv.waitKey()"
   ]
  },
  {
   "cell_type": "code",
   "execution_count": 59,
   "id": "f5eca15d",
   "metadata": {},
   "outputs": [
    {
     "data": {
      "text/plain": [
       "-1"
      ]
     },
     "execution_count": 59,
     "metadata": {},
     "output_type": "execute_result"
    }
   ],
   "source": [
    "draw1=image.copy()\n",
    "hsv1=cv.cvtColor(draw1, cv.COLOR_BGR2HSV)\n",
    "low_hsv=np.array([125, 43, 46])\n",
    "high_hsv=np.array([155, 255, 255])\n",
    "mask = cv.inRange(hsv1, lowerb=low_hsv, upperb=high_hsv)\n",
    "purple = cv.bitwise_and(draw1, draw1, mask=mask)\n",
    "draw2=purple.copy()\n",
    "ret1, th1 = cv.threshold(draw2, 230, 255, cv.THRESH_BINARY)\n",
    "th2 = cv.cvtColor(th1, cv.COLOR_BGR2GRAY)\n",
    "ret2, th3 = cv.threshold(th2, 1, 255, cv.THRESH_BINARY)\n",
    "\n",
    "contours, hie = cv.findContours(th3, cv.RETR_TREE, cv.CHAIN_APPROX_SIMPLE)\n",
    "for i in contours:\n",
    "    if len(i) < 10:\n",
    "        continue\n",
    "    x, y, w, h = cv.boundingRect(i)\n",
    "    cv.rectangle(draw1, (x, y), (x+w, y+h), (0, 0, 255), 2)\n",
    "cv.imshow(\"demo\", draw1)\n",
    "cv.waitKey()"
   ]
  }
 ],
 "metadata": {
  "kernelspec": {
   "display_name": "Python 3.9.7 ('base')",
   "language": "python",
   "name": "python3"
  },
  "language_info": {
   "codemirror_mode": {
    "name": "ipython",
    "version": 3
   },
   "file_extension": ".py",
   "mimetype": "text/x-python",
   "name": "python",
   "nbconvert_exporter": "python",
   "pygments_lexer": "ipython3",
   "version": "3.9.7"
  },
  "vscode": {
   "interpreter": {
    "hash": "865d8b2eb28e274047ba64063dfb6a2aabf0dfec4905d304d7a76618dae6fdd4"
   }
  }
 },
 "nbformat": 4,
 "nbformat_minor": 5
}
