{
 "cells": [
  {
   "cell_type": "code",
   "execution_count": 1,
   "metadata": {},
   "outputs": [],
   "source": [
    "import cv2\n",
    "import numpy as np\n",
    "import glob"
   ]
  },
  {
   "cell_type": "code",
   "execution_count": 2,
   "metadata": {},
   "outputs": [
    {
     "data": {
      "text/plain": [
       "-1"
      ]
     },
     "execution_count": 2,
     "metadata": {},
     "output_type": "execute_result"
    }
   ],
   "source": [
    "img1 = cv2.imread(\"calibration/Camera MV-SUA134GC#0003-0002-Snapshot-20221017-214931-811-8825178585.BMP\")\n",
    "cv2.imshow(\"demo1\", img1)\n",
    "cv2.waitKey(0)"
   ]
  },
  {
   "cell_type": "code",
   "execution_count": 3,
   "metadata": {},
   "outputs": [],
   "source": [
    "objp = np.zeros((8 * 11, 3), np.float32)\n",
    "objp[:, :2] = np.mgrid[0:11, 0:8].T.reshape(-1, 2)  \n",
    "objp = 2.0 * objp   \n",
    "obj_points = []     \n",
    "img_points = []\n",
    "images=glob.glob(\"calibration/*.BMP\") \n",
    "\n",
    "for fname in images:\n",
    "    img = cv2.imread(fname)\n",
    "    gray = cv2.cvtColor(img, cv2.COLOR_BGR2GRAY)\n",
    "    size = gray.shape[::-1]\n",
    "    ret, corners = cv2.findChessboardCorners(gray, (11, 8), None)\n",
    "    if ret:\n",
    "        obj_points.append(objp)\n",
    "        corners2 = cv2.cornerSubPix(gray, corners, (5, 5), (-1, -1), (cv2.TERM_CRITERIA_MAX_ITER | cv2.TERM_CRITERIA_EPS, 30, 0.001))  \n",
    "        if [corners2]:\n",
    "            img_points.append(corners2)\n",
    "        else:\n",
    "            img_points.append(corners)\n",
    "        cv2.drawChessboardCorners(img, (11, 8), corners, ret) \n",
    "        cv2.waitKey(1)\n",
    "_, mtx, dist, _, _ = cv2.calibrateCamera(obj_points, img_points, size, None, None)\n",
    "\n",
    "Camera_intrinsic = {\"mtx\": mtx}\n"
   ]
  },
  {
   "cell_type": "code",
   "execution_count": 4,
   "metadata": {},
   "outputs": [
    {
     "name": "stdout",
     "output_type": "stream",
     "text": [
      "{'mtx': array([[1.79109940e+03, 0.00000000e+00, 6.48140939e+02],\n",
      "       [0.00000000e+00, 1.79004130e+03, 4.78535848e+02],\n",
      "       [0.00000000e+00, 0.00000000e+00, 1.00000000e+00]])}\n"
     ]
    }
   ],
   "source": [
    "print(Camera_intrinsic)"
   ]
  },
  {
   "cell_type": "code",
   "execution_count": 77,
   "metadata": {},
   "outputs": [
    {
     "data": {
      "text/plain": [
       "-1"
      ]
     },
     "execution_count": 77,
     "metadata": {},
     "output_type": "execute_result"
    }
   ],
   "source": [
    "mine = cv2.imread(\"mine.BMP\")\n",
    "cv2.imshow(\"demo\", mine)\n",
    "cv2.waitKey(0)"
   ]
  },
  {
   "cell_type": "code",
   "execution_count": 79,
   "metadata": {},
   "outputs": [],
   "source": [
    "min4=mine.copy()"
   ]
  },
  {
   "cell_type": "code",
   "execution_count": 35,
   "metadata": {},
   "outputs": [],
   "source": [
    "obpoints = np.array([[-82, 82, 0],\n",
    "                     [82, 82, 0], \n",
    "                     [-82, -82, 0], \n",
    "                     [82, -82, 0]], dtype=np.float64)\n",
    "impoints = np.array([[463, 413], [761, 426], [466, 691], [751, 708]], dtype = np.float64)"
   ]
  },
  {
   "cell_type": "code",
   "execution_count": 36,
   "metadata": {},
   "outputs": [],
   "source": [
    "ret, r, t = cv2.solvePnP(obpoints, impoints, mtx, dist)"
   ]
  },
  {
   "cell_type": "code",
   "execution_count": 74,
   "metadata": {},
   "outputs": [],
   "source": [
    "axis = np.array([[0, 0, 100], [0, 100, 0], [100, 0, 0]], dtype=np.float64)\n",
    "\n",
    "impoints, jcb=cv2.projectPoints(axis, r, t, mtx, dist)\n"
   ]
  },
  {
   "cell_type": "code",
   "execution_count": 75,
   "metadata": {},
   "outputs": [
    {
     "name": "stdout",
     "output_type": "stream",
     "text": [
      "[[[582.22552545 622.64333022]]\n",
      "\n",
      " [[611.05114368 387.16424565]]\n",
      "\n",
      " [[788.53334386 571.8417606 ]]]\n"
     ]
    }
   ],
   "source": [
    "print(impoints)"
   ]
  },
  {
   "cell_type": "code",
   "execution_count": 81,
   "metadata": {},
   "outputs": [
    {
     "data": {
      "text/plain": [
       "-1"
      ]
     },
     "execution_count": 81,
     "metadata": {},
     "output_type": "execute_result"
    }
   ],
   "source": [
    "yuandian = np.array([640, 512], dtype=np.float64)\n",
    "ax1=np.array([606,568], dtype=np.float64)\n",
    "cv2.line(min4, (609, 563), (582, 623), (0,0,255), 3)\n",
    "cv2.line(min4, (609, 563), (611, 387), (0,255,0), 3)\n",
    "cv2.line(min4, (609, 563), (789, 572), (255,0,0), 3)\n",
    "cv2.imshow(\"demo\", min4)\n",
    "cv2.waitKey(0)"
   ]
  }
 ],
 "metadata": {
  "kernelspec": {
   "display_name": "Python 3.9.7 ('base')",
   "language": "python",
   "name": "python3"
  },
  "language_info": {
   "codemirror_mode": {
    "name": "ipython",
    "version": 3
   },
   "file_extension": ".py",
   "mimetype": "text/x-python",
   "name": "python",
   "nbconvert_exporter": "python",
   "pygments_lexer": "ipython3",
   "version": "3.9.7"
  },
  "orig_nbformat": 4,
  "vscode": {
   "interpreter": {
    "hash": "865d8b2eb28e274047ba64063dfb6a2aabf0dfec4905d304d7a76618dae6fdd4"
   }
  }
 },
 "nbformat": 4,
 "nbformat_minor": 2
}
